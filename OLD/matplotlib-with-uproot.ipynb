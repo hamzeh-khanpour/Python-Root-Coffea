{
  "nbformat": 4,
  "nbformat_minor": 0,
  "metadata": {
    "colab": {
      "provenance": [],
      "authorship_tag": "ABX9TyMs129z0fxA4jX8TS4xL/VN",
      "include_colab_link": true
    },
    "kernelspec": {
      "name": "python3",
      "display_name": "Python 3"
    },
    "language_info": {
      "name": "python"
    }
  },
  "cells": [
    {
      "cell_type": "markdown",
      "metadata": {
        "id": "view-in-github",
        "colab_type": "text"
      },
      "source": [
        "<a href=\"https://colab.research.google.com/github/hamzeh-khanpour/Python-Root-Coffea/blob/main/matplotlib-with-uproot.ipynb\" target=\"_parent\"><img src=\"https://colab.research.google.com/assets/colab-badge.svg\" alt=\"Open In Colab\"/></a>"
      ]
    },
    {
      "cell_type": "code",
      "execution_count": null,
      "metadata": {
        "id": "KH_E7OXFSbFg"
      },
      "outputs": [],
      "source": [
        "import uproot\n",
        "import numpy as np\n",
        "import pandas as pd\n",
        "import h5py\n",
        "\n",
        "treename = 'HZZ4LeptonsAnalysisReduced'\n",
        "filename = {}\n",
        "upfile = {}\n",
        "params = {}\n",
        "\n",
        "filename['bkg'] = 'data/ntuple_4mu_bkg.root'\n",
        "filename['VV'] = 'data/ntuple_4mu_VV.root'\n",
        "\n",
        "upfile['bkg'] = uproot.open(filename['bkg'])\n",
        "params['bkg'] = upfile['bkg'][treename].arrays() # dictionary of NumPy arrays\n",
        "upfile['VV'] = uproot.open(filename['VV'])\n",
        "params['VV'] = upfile['VV'][treename].arrays() "
      ]
    },
    {
      "cell_type": "code",
      "source": [
        "df = {}\n",
        "VARS = ['f_mass4l', 'f_massjj']\n",
        "df['bkg'] = pd.DataFrame(params['bkg'],columns=VARS)\n",
        "df['VV'] = pd.DataFrame(params['VV'],columns=VARS)"
      ],
      "metadata": {
        "id": "LY1g8CA-SgjH"
      },
      "execution_count": null,
      "outputs": []
    },
    {
      "cell_type": "code",
      "source": [
        "import matplotlib.pyplot as plt\n",
        "%matplotlib inline\n",
        "plt.figure(figsize=(5, 4),dpi=100)\n",
        "plt.xlabel(VARS[0])\n",
        "bins = np.linspace(80, 140, 100)\n",
        "df['bkg'][VARS[0]].plot.hist(bins, alpha=1, label='bkg',histtype='step')\n",
        "df['VV'][VARS[0]].plot.hist(bins, alpha=1, label='VV',histtype='step')\n",
        "plt.legend(loc='upper right')\n",
        "plt.xlim(80,140)\n",
        "plt.figure(figsize=(5, 4),dpi=100)\n",
        "plt.xlabel(VARS[1])\n",
        "bins = np.linspace(0, 2000, 100)\n",
        "df['bkg'][VARS[1]].plot.hist(bins, alpha=1, label='bkg',histtype='step')\n",
        "df['VV'][VARS[1]].plot.hist(bins, alpha=1, label='VV',histtype='step')\n",
        "plt.legend(loc='upper right')\n",
        "plt.xlim(0,2000)"
      ],
      "metadata": {
        "id": "3pSb3M4qSkVF"
      },
      "execution_count": null,
      "outputs": []
    }
  ]
}
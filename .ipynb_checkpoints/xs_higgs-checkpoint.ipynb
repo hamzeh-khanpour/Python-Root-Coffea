{
 "cells": [
  {
   "cell_type": "code",
   "execution_count": 1,
   "id": "74bb42d3-380e-4544-8884-8c587cded28d",
   "metadata": {},
   "outputs": [
    {
     "name": "stdout",
     "output_type": "stream",
     "text": [
      "The magnitude of the function at W = 125 GeV is: 0.0001406778612518564\n"
     ]
    }
   ],
   "source": [
    "import numpy as np\n",
    "\n",
    "# Constants\n",
    "pi = np.pi\n",
    "hbarc2 = 0.389\n",
    "M_H = 125.0  # Higgs mass in GeV\n",
    "Gamma_gamma = (2.27e-3) * (4.07e-3)  # Two-photon width\n",
    "\n",
    "# Function to calculate the magnitude of the function at W = 125 GeV   ----    Elastic \n",
    "def magnitude_at_125GeV():\n",
    "    return ( 4.0 * pi**2.0 * Gamma_gamma * hbarc2 / M_H ** 2.0 )  * 1e9  * 1.549231e-05\n",
    "\n",
    "# Calculate and print the magnitude at 125 GeV\n",
    "magnitude = magnitude_at_125GeV()\n",
    "print(f\"The magnitude of the function at W = 125 GeV is: {magnitude}\")\n"
   ]
  },
  {
   "cell_type": "code",
   "execution_count": 2,
   "id": "1c5e1af9-30cf-40df-ab33-7e1cda83423c",
   "metadata": {},
   "outputs": [
    {
     "name": "stdout",
     "output_type": "stream",
     "text": [
      "The magnitude of the function at W = 125 GeV is: 9.316543643594686e-05\n"
     ]
    }
   ],
   "source": [
    "import numpy as np\n",
    "\n",
    "# Constants\n",
    "pi = np.pi\n",
    "hbarc2 = 0.389\n",
    "M_H = 125.0  # Higgs mass in GeV\n",
    "Gamma_gamma = (2.27e-3) * (4.07e-3)  # Two-photon width\n",
    "\n",
    "# Function to calculate the magnitude of the function at W = 125 GeV   ----    Inelastic (MN < 10 GeV) \n",
    "def magnitude_at_125GeV():\n",
    "    return ( 4.0 * pi**2.0 * Gamma_gamma * hbarc2 / M_H ** 2.0 )  * 1e9  * 1.025995e-05\n",
    "\n",
    "# Calculate and print the magnitude at 125 GeV\n",
    "magnitude = magnitude_at_125GeV()\n",
    "print(f\"The magnitude of the function at W = 125 GeV is: {magnitude}\")"
   ]
  },
  {
   "cell_type": "code",
   "execution_count": 3,
   "id": "606af7d0-8b2e-450e-8165-620a9c3b49b9",
   "metadata": {},
   "outputs": [
    {
     "name": "stdout",
     "output_type": "stream",
     "text": [
      "The magnitude of the function at W = 125 GeV is: 0.00018109070015580287\n"
     ]
    }
   ],
   "source": [
    "import numpy as np\n",
    "\n",
    "# Constants\n",
    "pi = np.pi\n",
    "hbarc2 = 0.389\n",
    "M_H = 125.0  # Higgs mass in GeV\n",
    "Gamma_gamma = (2.27e-3) * (4.07e-3)  # Two-photon width\n",
    "\n",
    "# Function to calculate the magnitude of the function at W = 125 GeV   ----    Inelastic (MN < 50 GeV) \n",
    "def magnitude_at_125GeV():\n",
    "    return ( 4.0 * pi**2.0 * Gamma_gamma * hbarc2 / M_H ** 2.0 )  * 1e9  * 1.994282e-05\n",
    "\n",
    "# Calculate and print the magnitude at 125 GeV\n",
    "magnitude = magnitude_at_125GeV()\n",
    "print(f\"The magnitude of the function at W = 125 GeV is: {magnitude}\")"
   ]
  },
  {
   "cell_type": "code",
   "execution_count": 4,
   "id": "ad55bf95-6317-4164-99bd-16bf0b4a449c",
   "metadata": {},
   "outputs": [
    {
     "name": "stdout",
     "output_type": "stream",
     "text": [
      "The magnitude of the function at W = 125 GeV is: 0.00023312484883271017\n"
     ]
    }
   ],
   "source": [
    "import numpy as np\n",
    "\n",
    "# Constants\n",
    "pi = np.pi\n",
    "hbarc2 = 0.389\n",
    "M_H = 125.0  # Higgs mass in GeV\n",
    "Gamma_gamma = (2.27e-3) * (4.07e-3)  # Two-photon width\n",
    "\n",
    "# Function to calculate the magnitude of the function at W = 125 GeV   ----    Inelastic (MN < 300 GeV)  \n",
    "def magnitude_at_125GeV():\n",
    "    return ( 4.0 * pi**2.0 * Gamma_gamma * hbarc2 / M_H ** 2.0 )  * 1e9  * 2.567314e-05\n",
    "\n",
    "# Calculate and print the magnitude at 125 GeV\n",
    "magnitude = magnitude_at_125GeV()\n",
    "print(f\"The magnitude of the function at W = 125 GeV is: {magnitude}\")"
   ]
  },
  {
   "cell_type": "code",
   "execution_count": null,
   "id": "a2753fc6-aca6-4f30-a4f5-7c3fd6f73548",
   "metadata": {},
   "outputs": [],
   "source": []
  },
  {
   "cell_type": "code",
   "execution_count": null,
   "id": "b64120be-e012-418d-a4b6-534ef9b9988d",
   "metadata": {},
   "outputs": [],
   "source": []
  }
 ],
 "metadata": {
  "kernelspec": {
   "display_name": "Python 3 (ipykernel)",
   "language": "python",
   "name": "python3"
  },
  "language_info": {
   "codemirror_mode": {
    "name": "ipython",
    "version": 3
   },
   "file_extension": ".py",
   "mimetype": "text/x-python",
   "name": "python",
   "nbconvert_exporter": "python",
   "pygments_lexer": "ipython3",
   "version": "3.10.12"
  }
 },
 "nbformat": 4,
 "nbformat_minor": 5
}

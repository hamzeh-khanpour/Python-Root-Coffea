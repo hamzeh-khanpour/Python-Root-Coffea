{
  "nbformat": 4,
  "nbformat_minor": 0,
  "metadata": {
    "colab": {
      "provenance": [],
      "authorship_tag": "ABX9TyPKQ1Ulh4Fk2u0xZTjfvFPS",
      "include_colab_link": true
    },
    "kernelspec": {
      "name": "python3",
      "display_name": "Python 3"
    },
    "language_info": {
      "name": "python"
    }
  },
  "cells": [
    {
      "cell_type": "markdown",
      "metadata": {
        "id": "view-in-github",
        "colab_type": "text"
      },
      "source": [
        "<a href=\"https://colab.research.google.com/github/hamzeh-khanpour/Python-Root-Coffea/blob/main/Untitled22.ipynb\" target=\"_parent\"><img src=\"https://colab.research.google.com/assets/colab-badge.svg\" alt=\"Open In Colab\"/></a>"
      ]
    },
    {
      "cell_type": "code",
      "execution_count": 1,
      "metadata": {
        "colab": {
          "base_uri": "https://localhost:8080/",
          "height": 389
        },
        "id": "LPIN9eJqjSjo",
        "outputId": "0a6e46a0-4d1a-4337-f61e-bbd9adc242bc"
      },
      "outputs": [
        {
          "output_type": "error",
          "ename": "ModuleNotFoundError",
          "evalue": "ignored",
          "traceback": [
            "\u001b[0;31m---------------------------------------------------------------------------\u001b[0m",
            "\u001b[0;31mModuleNotFoundError\u001b[0m                       Traceback (most recent call last)",
            "\u001b[0;32m<ipython-input-1-70ff2d023fd8>\u001b[0m in \u001b[0;36m<cell line: 6>\u001b[0;34m()\u001b[0m\n\u001b[1;32m      4\u001b[0m \u001b[0mplt\u001b[0m\u001b[0;34m.\u001b[0m\u001b[0mrcParams\u001b[0m\u001b[0;34m[\u001b[0m\u001b[0;34m'font.family'\u001b[0m\u001b[0;34m]\u001b[0m \u001b[0;34m=\u001b[0m \u001b[0;34m'STIXGeneral'\u001b[0m\u001b[0;34m\u001b[0m\u001b[0;34m\u001b[0m\u001b[0m\n\u001b[1;32m      5\u001b[0m \u001b[0;34m\u001b[0m\u001b[0m\n\u001b[0;32m----> 6\u001b[0;31m \u001b[0;32mfrom\u001b[0m \u001b[0mfeynman\u001b[0m \u001b[0;32mimport\u001b[0m \u001b[0mDiagram\u001b[0m\u001b[0;34m\u001b[0m\u001b[0;34m\u001b[0m\u001b[0m\n\u001b[0m\u001b[1;32m      7\u001b[0m \u001b[0;32mimport\u001b[0m \u001b[0mfeynman\u001b[0m\u001b[0;34m\u001b[0m\u001b[0;34m\u001b[0m\u001b[0m\n\u001b[1;32m      8\u001b[0m \u001b[0;34m\u001b[0m\u001b[0m\n",
            "\u001b[0;31mModuleNotFoundError\u001b[0m: No module named 'feynman'",
            "",
            "\u001b[0;31m---------------------------------------------------------------------------\u001b[0;32m\nNOTE: If your import is failing due to a missing package, you can\nmanually install dependencies using either !pip or !apt.\n\nTo view examples of installing some common dependencies, click the\n\"Open Examples\" button below.\n\u001b[0;31m---------------------------------------------------------------------------\u001b[0m\n"
          ],
          "errorDetails": {
            "actions": [
              {
                "action": "open_url",
                "actionText": "Open Examples",
                "url": "/notebooks/snippets/importing_libraries.ipynb"
              }
            ]
          }
        }
      ],
      "source": [
        "import matplotlib.pyplot as plt\n",
        "\n",
        "plt.rcParams['mathtext.fontset'] = 'stix'\n",
        "plt.rcParams['font.family'] = 'STIXGeneral'\n",
        "\n",
        "from feynman import Diagram\n",
        "import feynman\n",
        "\n",
        "fig = plt.figure(figsize=(10.,10.))\n",
        "ax = fig.add_axes([0,0,1,1], frameon=False)\n",
        "\n",
        "diagram = Diagram(ax)\n",
        "#diagram.text(.5,0.9,\"LHeC\", fontsize=40)\n",
        "\n",
        "in1 = diagram.vertex(xy=(.0,.7), marker='')\n",
        "in2= diagram.vertex(xy=(.0,.3), marker='')\n",
        "v1 = diagram.vertex(xy=(0.25,0.5),marker='')\n",
        "v2 = diagram.vertex(xy=(0.45,0.5),marker='')\n",
        "\n",
        "v3 = diagram.vertex(xy=(.67,.63),marker='') # for blob\n",
        "v4 = diagram.vertex(xy=(.67,.66),marker='') # for blob\n",
        "vw1 = diagram.vertex(xy=(.67,.645),marker='') ## for l\n",
        "vw2 = diagram.vertex(xy=(.67,.64),marker='') ## for l_bar\n",
        "\n",
        "out1 = diagram.vertex(xy=(.9,.8), marker='')\n",
        "out2 = diagram.vertex(xy=(.8,.3), marker='')##\n",
        "\n",
        "Wplusout = diagram.vertex(xy=(0.9, 0.6), marker='')\n",
        "Wminusout = diagram.vertex(xy=(0.9, 0.45), marker='')\n",
        "\n",
        "lw = 5\n",
        "e1 = diagram.line(v1, in1, style='line', color='k', lw=lw, arrow_param=dict(color='k', length=0.08, width=0.02))\n",
        "p1 = diagram.line(in2, v1, style='line', color='k', lw=lw, arrow_param=dict(color='k', length=0.08, width=0.02))\n",
        "\n",
        "g1 = diagram.line(v1, v2, style='wiggly',color='g')\n",
        "# g2 = diagram.line(v3, v2, style='wiggly')\n",
        "\n",
        "W1 = diagram.line(vw1, Wplusout,  arrow=True, style='line', color='k', lw=3,arrow_param=dict(color='k', length=0.08, width=0.02))\n",
        "W2 = diagram.line(vw2, Wminusout, arrow=True, style='line', color='k', lw=3,arrow_param=dict(color='k', length=0.08, width=0.02))\n",
        "\n",
        "t3 = diagram.line(v2, out1,pos=0.15,  color='k', lw=lw,arrow=False)#, arrow_param=dict(color='k', length=0.01, width=0.01))\n",
        "\n",
        "t3.add_arrow(t=0.15,style='fancy')\n",
        "t3.add_arrow(t=0.75,style='fancy')\n",
        "t3.scale_arrows(0.75)\n",
        "t4 = diagram.line(v2, out2 , color='k', lw=lw, arrow_param=dict(color='k', length=0.08, width=0.02))\n",
        "\n",
        "e1.text(r\"$e$\",fontsize=40)\n",
        "p1.text(r\"$e^+$\",fontsize=40)\n",
        "# g1.text(r\"$\\gamma/Z$\",fontsize=40)\n",
        "diagram.text(0.35,0.44,r\"$\\gamma/Z$\",fontsize=40, color='g')\n",
        "diagram.text(0.75,0.52,r\"$\\bar{l}$\",fontsize=30, color='k')\n",
        "diagram.text(0.8,0.65 ,r\"$l      $\",fontsize=30, color='k')\n",
        "diagram.text(0.55,0.35,r\"$e^+    $\",fontsize=40, color='k')\n",
        "diagram.text(0.8,0.8  ,r\"$e      $\",fontsize=40, color='k')\n",
        "diagram.text(0.55,0.6 ,r\"$e     $\",fontsize=40, color='k')\n",
        "\n",
        "O = diagram.operator([v4,v3],color='r',zorder=10)\n",
        "#W1.text(\"$W^+$\", fontsize=35)\n",
        "#W2.text(\"$W^-$\", fontsize=35)\n",
        "diagram.plot()\n",
        "plt.savefig('plot_FCCee_1.pdf')\n",
        "plt.savefig('plot_FCCee_1.jpg')\n",
        "plt.show()"
      ]
    }
  ]
}